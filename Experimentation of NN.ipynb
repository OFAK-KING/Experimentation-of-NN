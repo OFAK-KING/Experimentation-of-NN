{
 "cells": [
  {
   "cell_type": "code",
   "execution_count": 1,
   "metadata": {},
   "outputs": [
    {
     "name": "stderr",
     "output_type": "stream",
     "text": [
      "Using TensorFlow backend.\n"
     ]
    }
   ],
   "source": [
    "import numpy as np\n",
    "import pandas as pd\n",
    "from matplotlib import pyplot as plt\n",
    "from sklearn import preprocessing\n",
    "from sklearn.model_selection import train_test_split\n",
    "from sklearn.metrics import confusion_matrix, classification_report\n",
    "from keras.models import Sequential as Seq\n",
    "from keras.layers import Dense\n",
    "from keras.constraints import unit_norm #to force weights to have a magnitude of 1.0\n",
    "from keras.optimizers import SGD \n",
    "from sklearn.metrics import confusion_matrix\n",
    "from keras.utils import to_categorical"
   ]
  },
  {
   "cell_type": "markdown",
   "metadata": {},
   "source": [
    "# Importing and Preprocessing Data"
   ]
  },
  {
   "cell_type": "code",
   "execution_count": 2,
   "metadata": {},
   "outputs": [
    {
     "name": "stdout",
     "output_type": "stream",
     "text": [
      "(1592, 266)\n",
      "1592\n"
     ]
    }
   ],
   "source": [
    "path = '../Codes/'\n",
    "filename = 'semeionCSV.csv'\n",
    "df = pd.read_csv(path+filename)\n",
    "print(df.shape) #checking the shape of the dataset\n",
    "print(len(df)) # checking if the full rows of the data was imported  "
   ]
  },
  {
   "cell_type": "code",
   "execution_count": 3,
   "metadata": {},
   "outputs": [],
   "source": [
    "pd.set_option('display.max_columns', 266)\n",
    "#print(df.head()) #printing out few entries of the data from the top row eventhough have accessed it in notpad and excel++\n",
    "#print(df.tail()) #printing out few entries of the data from the bottom row eventhough have accessed it in notpad++"
   ]
  },
  {
   "cell_type": "code",
   "execution_count": 4,
   "metadata": {},
   "outputs": [],
   "source": [
    "#Check if there is column tht contains all zeros\n",
    "df = df.loc[:, (df != 0).any(axis=0)]\n",
    "#print(df.shape) #checking the shape of the dataset"
   ]
  },
  {
   "cell_type": "markdown",
   "metadata": {},
   "source": [
    "### Dividing the Dataset into Predictor and Response Variable"
   ]
  },
  {
   "cell_type": "code",
   "execution_count": 5,
   "metadata": {},
   "outputs": [],
   "source": [
    "Dependent = df[df.columns[256:]].copy()\n",
    "#print(Dependent)"
   ]
  },
  {
   "cell_type": "code",
   "execution_count": 6,
   "metadata": {},
   "outputs": [],
   "source": [
    "Independent = df[df.columns[:256]].copy()\n",
    "#print(Independent)"
   ]
  },
  {
   "cell_type": "markdown",
   "metadata": {},
   "source": [
    "# Question 3 "
   ]
  },
  {
   "cell_type": "markdown",
   "metadata": {},
   "source": [
    "**Standardize** (to regress the data mean to 0 and standard deviation to 1) the features so that the model can converge fast "
   ]
  },
  {
   "cell_type": "code",
   "execution_count": 7,
   "metadata": {},
   "outputs": [
    {
     "name": "stderr",
     "output_type": "stream",
     "text": [
      "C:\\Users\\CHERPENS\\Anaconda3\\lib\\site-packages\\sklearn\\preprocessing\\data.py:645: DataConversionWarning: Data with input dtype int64 were all converted to float64 by StandardScaler.\n",
      "  return self.partial_fit(X, y)\n",
      "C:\\Users\\CHERPENS\\Anaconda3\\lib\\site-packages\\ipykernel_launcher.py:2: DataConversionWarning: Data with input dtype int64 were all converted to float64 by StandardScaler.\n",
      "  \n"
     ]
    }
   ],
   "source": [
    "standardize = preprocessing.StandardScaler().fit(Independent)\n",
    "Independent = standardize.transform(Independent)\n",
    "#print(Independent)"
   ]
  },
  {
   "cell_type": "code",
   "execution_count": 8,
   "metadata": {},
   "outputs": [
    {
     "data": {
      "text/plain": [
       "(1592, 256)"
      ]
     },
     "execution_count": 8,
     "metadata": {},
     "output_type": "execute_result"
    }
   ],
   "source": [
    "Independent.shape"
   ]
  },
  {
   "cell_type": "markdown",
   "metadata": {},
   "source": [
    "**Creating Training and Testing Set**"
   ]
  },
  {
   "cell_type": "code",
   "execution_count": 9,
   "metadata": {},
   "outputs": [],
   "source": [
    "#Split the Data into Training and Testing Set 70/30 respectively \n",
    "Indep_train, Indep_test, Dep_train, Dep_test = train_test_split(Independent, Dependent, test_size=0.30, random_state=0)"
   ]
  },
  {
   "cell_type": "code",
   "execution_count": 22,
   "metadata": {},
   "outputs": [],
   "source": [
    "NN_Model_IM = Seq()"
   ]
  },
  {
   "cell_type": "code",
   "execution_count": 23,
   "metadata": {},
   "outputs": [],
   "source": [
    "#Adding 50 Hidden and 10 output layers to the model\n",
    "NN_Model_IM.add(Dense(100, input_dim = 256, bias_constraint = unit_norm(axis = 0),\n",
    "                   activation = 'sigmoid'))\n",
    "NN_Model_IM.add(Dense(10, bias_constraint = unit_norm(axis = 0), activation = 'sigmoid'))"
   ]
  },
  {
   "cell_type": "code",
   "execution_count": 24,
   "metadata": {},
   "outputs": [],
   "source": [
    "BPSGD_opt = SGD(lr = 1) #Set the learning rate to 0.1"
   ]
  },
  {
   "cell_type": "markdown",
   "metadata": {},
   "source": [
    "**Model Compilation**"
   ]
  },
  {
   "cell_type": "code",
   "execution_count": 25,
   "metadata": {},
   "outputs": [],
   "source": [
    "NN_Model_IM.compile(optimizer = BPSGD_opt, loss = 'categorical_crossentropy', metrics = ['accuracy'])"
   ]
  },
  {
   "cell_type": "code",
   "execution_count": 26,
   "metadata": {},
   "outputs": [
    {
     "name": "stdout",
     "output_type": "stream",
     "text": [
      "_________________________________________________________________\n",
      "Layer (type)                 Output Shape              Param #   \n",
      "=================================================================\n",
      "dense_3 (Dense)              (None, 100)               25700     \n",
      "_________________________________________________________________\n",
      "dense_4 (Dense)              (None, 10)                1010      \n",
      "=================================================================\n",
      "Total params: 26,710\n",
      "Trainable params: 26,710\n",
      "Non-trainable params: 0\n",
      "_________________________________________________________________\n"
     ]
    }
   ],
   "source": [
    "NN_Model_IM.summary()"
   ]
  },
  {
   "cell_type": "markdown",
   "metadata": {},
   "source": [
    "**Fitting the NN Model**"
   ]
  },
  {
   "cell_type": "code",
   "execution_count": 27,
   "metadata": {},
   "outputs": [
    {
     "name": "stdout",
     "output_type": "stream",
     "text": [
      "WARNING:tensorflow:From C:\\Users\\CHERPENS\\Anaconda3\\lib\\site-packages\\tensorflow\\python\\ops\\math_ops.py:3066: to_int32 (from tensorflow.python.ops.math_ops) is deprecated and will be removed in a future version.\n",
      "Instructions for updating:\n",
      "Use tf.cast instead.\n",
      "Train on 1114 samples, validate on 478 samples\n",
      "Epoch 1/50\n",
      "1114/1114 [==============================] - 0s 357us/step - loss: 1.1611 - acc: 0.6400 - val_loss: 0.7182 - val_acc: 0.7469\n",
      "Epoch 2/50\n",
      "1114/1114 [==============================] - 0s 53us/step - loss: 0.2635 - acc: 0.9291 - val_loss: 0.3730 - val_acc: 0.8745\n",
      "Epoch 3/50\n",
      "1114/1114 [==============================] - 0s 52us/step - loss: 0.1275 - acc: 0.9785 - val_loss: 0.2654 - val_acc: 0.9079\n",
      "Epoch 4/50\n",
      "1114/1114 [==============================] - 0s 56us/step - loss: 0.0742 - acc: 0.9910 - val_loss: 0.2779 - val_acc: 0.9121\n",
      "Epoch 5/50\n",
      "1114/1114 [==============================] - 0s 52us/step - loss: 0.0485 - acc: 0.9973 - val_loss: 0.2456 - val_acc: 0.9247\n",
      "Epoch 6/50\n",
      "1114/1114 [==============================] - 0s 53us/step - loss: 0.0328 - acc: 0.9991 - val_loss: 0.2381 - val_acc: 0.9247\n",
      "Epoch 7/50\n",
      "1114/1114 [==============================] - 0s 52us/step - loss: 0.0251 - acc: 1.0000 - val_loss: 0.2356 - val_acc: 0.9289\n",
      "Epoch 8/50\n",
      "1114/1114 [==============================] - 0s 55us/step - loss: 0.0206 - acc: 1.0000 - val_loss: 0.2325 - val_acc: 0.9268\n",
      "Epoch 9/50\n",
      "1114/1114 [==============================] - 0s 54us/step - loss: 0.0171 - acc: 1.0000 - val_loss: 0.2335 - val_acc: 0.9247\n",
      "Epoch 10/50\n",
      "1114/1114 [==============================] - 0s 62us/step - loss: 0.0148 - acc: 1.0000 - val_loss: 0.2362 - val_acc: 0.9247\n",
      "Epoch 11/50\n",
      "1114/1114 [==============================] - 0s 55us/step - loss: 0.0129 - acc: 1.0000 - val_loss: 0.2350 - val_acc: 0.9247\n",
      "Epoch 12/50\n",
      "1114/1114 [==============================] - 0s 63us/step - loss: 0.0115 - acc: 1.0000 - val_loss: 0.2356 - val_acc: 0.9268\n",
      "Epoch 13/50\n",
      "1114/1114 [==============================] - 0s 56us/step - loss: 0.0104 - acc: 1.0000 - val_loss: 0.2356 - val_acc: 0.9268\n",
      "Epoch 14/50\n",
      "1114/1114 [==============================] - 0s 52us/step - loss: 0.0094 - acc: 1.0000 - val_loss: 0.2345 - val_acc: 0.9268\n",
      "Epoch 15/50\n",
      "1114/1114 [==============================] - 0s 53us/step - loss: 0.0086 - acc: 1.0000 - val_loss: 0.2365 - val_acc: 0.9268\n",
      "Epoch 16/50\n",
      "1114/1114 [==============================] - 0s 57us/step - loss: 0.0079 - acc: 1.0000 - val_loss: 0.2376 - val_acc: 0.9247\n",
      "Epoch 17/50\n",
      "1114/1114 [==============================] - 0s 60us/step - loss: 0.0074 - acc: 1.0000 - val_loss: 0.2378 - val_acc: 0.9247\n",
      "Epoch 18/50\n",
      "1114/1114 [==============================] - 0s 58us/step - loss: 0.0068 - acc: 1.0000 - val_loss: 0.2381 - val_acc: 0.9247\n",
      "Epoch 19/50\n",
      "1114/1114 [==============================] - 0s 54us/step - loss: 0.0064 - acc: 1.0000 - val_loss: 0.2374 - val_acc: 0.9268\n",
      "Epoch 20/50\n",
      "1114/1114 [==============================] - 0s 60us/step - loss: 0.0060 - acc: 1.0000 - val_loss: 0.2382 - val_acc: 0.9268\n",
      "Epoch 21/50\n",
      "1114/1114 [==============================] - 0s 55us/step - loss: 0.0057 - acc: 1.0000 - val_loss: 0.2389 - val_acc: 0.9268\n",
      "Epoch 22/50\n",
      "1114/1114 [==============================] - 0s 59us/step - loss: 0.0054 - acc: 1.0000 - val_loss: 0.2397 - val_acc: 0.9268\n",
      "Epoch 23/50\n",
      "1114/1114 [==============================] - 0s 53us/step - loss: 0.0051 - acc: 1.0000 - val_loss: 0.2396 - val_acc: 0.9268\n",
      "Epoch 24/50\n",
      "1114/1114 [==============================] - 0s 53us/step - loss: 0.0048 - acc: 1.0000 - val_loss: 0.2400 - val_acc: 0.9268\n",
      "Epoch 25/50\n",
      "1114/1114 [==============================] - 0s 60us/step - loss: 0.0046 - acc: 1.0000 - val_loss: 0.2408 - val_acc: 0.9268\n",
      "Epoch 26/50\n",
      "1114/1114 [==============================] - 0s 61us/step - loss: 0.0044 - acc: 1.0000 - val_loss: 0.2414 - val_acc: 0.9268\n",
      "Epoch 27/50\n",
      "1114/1114 [==============================] - 0s 60us/step - loss: 0.0042 - acc: 1.0000 - val_loss: 0.2417 - val_acc: 0.9268\n",
      "Epoch 28/50\n",
      "1114/1114 [==============================] - 0s 61us/step - loss: 0.0040 - acc: 1.0000 - val_loss: 0.2424 - val_acc: 0.9268\n",
      "Epoch 29/50\n",
      "1114/1114 [==============================] - 0s 54us/step - loss: 0.0039 - acc: 1.0000 - val_loss: 0.2429 - val_acc: 0.9268\n",
      "Epoch 30/50\n",
      "1114/1114 [==============================] - 0s 53us/step - loss: 0.0037 - acc: 1.0000 - val_loss: 0.2433 - val_acc: 0.9268\n",
      "Epoch 31/50\n",
      "1114/1114 [==============================] - 0s 59us/step - loss: 0.0036 - acc: 1.0000 - val_loss: 0.2441 - val_acc: 0.9268\n",
      "Epoch 32/50\n",
      "1114/1114 [==============================] - 0s 61us/step - loss: 0.0034 - acc: 1.0000 - val_loss: 0.2447 - val_acc: 0.9268\n",
      "Epoch 33/50\n",
      "1114/1114 [==============================] - 0s 60us/step - loss: 0.0033 - acc: 1.0000 - val_loss: 0.2451 - val_acc: 0.9268\n",
      "Epoch 34/50\n",
      "1114/1114 [==============================] - 0s 54us/step - loss: 0.0032 - acc: 1.0000 - val_loss: 0.2454 - val_acc: 0.9268\n",
      "Epoch 35/50\n",
      "1114/1114 [==============================] - 0s 52us/step - loss: 0.0031 - acc: 1.0000 - val_loss: 0.2460 - val_acc: 0.9268\n",
      "Epoch 36/50\n",
      "1114/1114 [==============================] - 0s 59us/step - loss: 0.0030 - acc: 1.0000 - val_loss: 0.2461 - val_acc: 0.9268\n",
      "Epoch 37/50\n",
      "1114/1114 [==============================] - 0s 55us/step - loss: 0.0029 - acc: 1.0000 - val_loss: 0.2469 - val_acc: 0.9268\n",
      "Epoch 38/50\n",
      "1114/1114 [==============================] - 0s 53us/step - loss: 0.0028 - acc: 1.0000 - val_loss: 0.2470 - val_acc: 0.9268\n",
      "Epoch 39/50\n",
      "1114/1114 [==============================] - 0s 54us/step - loss: 0.0027 - acc: 1.0000 - val_loss: 0.2476 - val_acc: 0.9268\n",
      "Epoch 40/50\n",
      "1114/1114 [==============================] - 0s 79us/step - loss: 0.0026 - acc: 1.0000 - val_loss: 0.2484 - val_acc: 0.9268\n",
      "Epoch 41/50\n",
      "1114/1114 [==============================] - 0s 73us/step - loss: 0.0026 - acc: 1.0000 - val_loss: 0.2487 - val_acc: 0.9268\n",
      "Epoch 42/50\n",
      "1114/1114 [==============================] - 0s 74us/step - loss: 0.0025 - acc: 1.0000 - val_loss: 0.2487 - val_acc: 0.9268\n",
      "Epoch 43/50\n",
      "1114/1114 [==============================] - 0s 81us/step - loss: 0.0024 - acc: 1.0000 - val_loss: 0.2490 - val_acc: 0.9268\n",
      "Epoch 44/50\n",
      "1114/1114 [==============================] - 0s 78us/step - loss: 0.0024 - acc: 1.0000 - val_loss: 0.2493 - val_acc: 0.9268\n",
      "Epoch 45/50\n",
      "1114/1114 [==============================] - 0s 77us/step - loss: 0.0023 - acc: 1.0000 - val_loss: 0.2497 - val_acc: 0.9268\n",
      "Epoch 46/50\n",
      "1114/1114 [==============================] - 0s 74us/step - loss: 0.0023 - acc: 1.0000 - val_loss: 0.2501 - val_acc: 0.9268\n",
      "Epoch 47/50\n",
      "1114/1114 [==============================] - 0s 76us/step - loss: 0.0022 - acc: 1.0000 - val_loss: 0.2502 - val_acc: 0.9268\n",
      "Epoch 48/50\n",
      "1114/1114 [==============================] - 0s 76us/step - loss: 0.0021 - acc: 1.0000 - val_loss: 0.2507 - val_acc: 0.9268\n",
      "Epoch 49/50\n",
      "1114/1114 [==============================] - 0s 75us/step - loss: 0.0021 - acc: 1.0000 - val_loss: 0.2514 - val_acc: 0.9268\n",
      "Epoch 50/50\n",
      "1114/1114 [==============================] - 0s 71us/step - loss: 0.0020 - acc: 1.0000 - val_loss: 0.2517 - val_acc: 0.9268\n"
     ]
    }
   ],
   "source": [
    "NN_Model_Capture = NN_Model_IM.fit(Indep_train, Dep_train, epochs = 50, \n",
    "                                validation_data = (Indep_test, Dep_test))"
   ]
  },
  {
   "cell_type": "markdown",
   "metadata": {},
   "source": [
    "#### Accuracy on Training AND Test Set"
   ]
  },
  {
   "cell_type": "code",
   "execution_count": 28,
   "metadata": {},
   "outputs": [
    {
     "name": "stdout",
     "output_type": "stream",
     "text": [
      "Accuracy for Training Set: 1.0000\n",
      "'Loss for Training Set: 0.0020\n"
     ]
    }
   ],
   "source": [
    "loss, accuracy = NN_Model_IM.evaluate(Indep_train, Dep_train, verbose=0)\n",
    "print(\"Accuracy for Training Set: \"+\"{:.4f}\".format(accuracy))\n",
    "print(\"'Loss for Training Set: \"+\"{:.4f}\".format(loss))"
   ]
  },
  {
   "cell_type": "code",
   "execution_count": 29,
   "metadata": {},
   "outputs": [
    {
     "name": "stdout",
     "output_type": "stream",
     "text": [
      "Accuracy for Test Set: 0.9268\n",
      "Loss for Test Set: 0.2517\n"
     ]
    }
   ],
   "source": [
    "loss, accuracy = NN_Model_IM.evaluate(Indep_test, Dep_test, verbose=0)\n",
    "print(\"Accuracy for Test Set: \"+\"{:.4f}\".format(accuracy))\n",
    "print(\"Loss for Test Set: \"+\"{:.4f}\".format(loss))"
   ]
  },
  {
   "cell_type": "markdown",
   "metadata": {},
   "source": [
    "#### Confusion Matrix"
   ]
  },
  {
   "cell_type": "code",
   "execution_count": 30,
   "metadata": {},
   "outputs": [],
   "source": [
    "Dependent_Pred = NN_Model_IM.predict(Indep_test)\n",
    "Predicted_classes = np.argmax(Dependent_Pred, axis = 1)"
   ]
  },
  {
   "cell_type": "code",
   "execution_count": 31,
   "metadata": {},
   "outputs": [
    {
     "data": {
      "text/plain": [
       "array([[49,  0,  0,  0,  0,  0,  0,  0,  0,  0],\n",
       "       [ 0, 45,  0,  0,  0,  0,  0,  1,  0,  1],\n",
       "       [ 1,  0, 48,  0,  0,  0,  0,  0,  1,  0],\n",
       "       [ 0,  0,  0, 36,  1,  2,  0,  0,  0,  2],\n",
       "       [ 0,  2,  0,  0, 48,  0,  1,  0,  0,  1],\n",
       "       [ 0,  0,  0,  2,  0, 49,  0,  0,  1,  0],\n",
       "       [ 0,  0,  0,  0,  0,  0, 46,  0,  0,  0],\n",
       "       [ 1,  1,  0,  0,  2,  0,  0, 37,  0,  0],\n",
       "       [ 1,  1,  4,  0,  0,  0,  0,  1, 39,  1],\n",
       "       [ 1,  1,  0,  3,  0,  0,  0,  1,  1, 46]], dtype=int64)"
      ]
     },
     "execution_count": 31,
     "metadata": {},
     "output_type": "execute_result"
    }
   ],
   "source": [
    "Confusion_Matrix = confusion_matrix(Dep_test.values.argmax(axis=1), Predicted_classes)\n",
    "Confusion_Matrix"
   ]
  },
  {
   "cell_type": "markdown",
   "metadata": {},
   "source": [
    "#### Summarized Result on the Test Set"
   ]
  },
  {
   "cell_type": "code",
   "execution_count": 32,
   "metadata": {},
   "outputs": [
    {
     "name": "stdout",
     "output_type": "stream",
     "text": [
      "              precision    recall  f1-score   support\n",
      "\n",
      "           0       0.92      1.00      0.96        49\n",
      "           1       0.90      0.96      0.93        47\n",
      "           2       0.92      0.96      0.94        50\n",
      "           3       0.88      0.88      0.88        41\n",
      "           4       0.94      0.92      0.93        52\n",
      "           5       0.96      0.94      0.95        52\n",
      "           6       0.98      1.00      0.99        46\n",
      "           7       0.93      0.90      0.91        41\n",
      "           8       0.93      0.83      0.88        47\n",
      "           9       0.90      0.87      0.88        53\n",
      "\n",
      "   micro avg       0.93      0.93      0.93       478\n",
      "   macro avg       0.93      0.93      0.93       478\n",
      "weighted avg       0.93      0.93      0.93       478\n",
      "\n"
     ]
    }
   ],
   "source": [
    "Summarized_Result = classification_report(Dep_test.values.argmax(axis=1), Predicted_classes)\n",
    "print(Summarized_Result)"
   ]
  },
  {
   "cell_type": "markdown",
   "metadata": {},
   "source": [
    "#### Give a plot of both training and test accuracy as a function of epoch number (graph both of these on sample plot)."
   ]
  },
  {
   "cell_type": "code",
   "execution_count": 33,
   "metadata": {},
   "outputs": [],
   "source": [
    "Capture_acc = NN_Model_Capture.history['acc']\n",
    "Capture_val_acc = NN_Model_Capture.history['val_acc']\n",
    "Capture_loss = NN_Model_Capture.history['loss']\n",
    "Capture_val_loss = NN_Model_Capture.history['val_loss']\n",
    "epochs = range(1, len(Capture_acc) + 1)"
   ]
  },
  {
   "cell_type": "code",
   "execution_count": 34,
   "metadata": {},
   "outputs": [
    {
     "data": {
      "text/plain": [
       "<Figure size 432x288 with 0 Axes>"
      ]
     },
     "execution_count": 34,
     "metadata": {},
     "output_type": "execute_result"
    },
    {
     "data": {
      "image/png": "[encoded data removed]",
      "text/plain": [
       "<Figure size 432x288 with 1 Axes>"
      ]
     },
     "metadata": {
      "needs_background": "light"
     },
     "output_type": "display_data"
    },
    {
     "data": {
      "text/plain": [
       "<Figure size 432x288 with 0 Axes>"
      ]
     },
     "metadata": {},
     "output_type": "display_data"
    }
   ],
   "source": [
    "plt.plot(epochs, Capture_acc, 'bo', label = 'Training Accuracy')\n",
    "plt.plot(epochs, Capture_val_acc, 'b', label = 'Test Accuracy')\n",
    "plt.title('Training and Test Accuracy as a Function of Epoch Number')\n",
    "plt.legend()\n",
    "plt.figure()"
   ]
  },
  {
   "cell_type": "markdown",
   "metadata": {},
   "source": [
    "**Just by Standardizing the dataset a model with the same parameters accuracies improved from;  0.9928 to 1 and losses regressed from 0.0973 to 0.0370 for the training set and the test set from 0.9121/ 0.2830 to 0.9310/0.2467 for accuracies and losses respectively. Hence I felt I did not need to  add  any more features and hyperparameters**"
   ]
  },
  {
   "cell_type": "markdown",
   "metadata": {},
   "source": [
    "#### ============================================================================================================================="
   ]
  },
  {
   "cell_type": "code",
   "execution_count": 10,
   "metadata": {},
   "outputs": [],
   "source": [
    "standardize = preprocessing.StandardScaler().fit(Independent)\n",
    "Independent = standardize.transform(Independent)\n",
    "#print(Independent)"
   ]
  },
  {
   "cell_type": "code",
   "execution_count": 11,
   "metadata": {},
   "outputs": [
    {
     "data": {
      "text/plain": [
       "(1592, 256)"
      ]
     },
     "execution_count": 11,
     "metadata": {},
     "output_type": "execute_result"
    }
   ],
   "source": [
    "Independent.shape"
   ]
  },
  {
   "cell_type": "markdown",
   "metadata": {},
   "source": [
    "**Creating Training and Testing Set**"
   ]
  },
  {
   "cell_type": "code",
   "execution_count": 12,
   "metadata": {},
   "outputs": [],
   "source": [
    "#Split the Data into Training and Testing Set 70/30 respectively \n",
    "Indep_train, Indep_test, Dep_train, Dep_test = train_test_split(Independent, Dependent, test_size=0.30, random_state=0)"
   ]
  },
  {
   "cell_type": "code",
   "execution_count": 13,
   "metadata": {},
   "outputs": [],
   "source": [
    "NN_Model_IMLR = Seq()"
   ]
  },
  {
   "cell_type": "code",
   "execution_count": 14,
   "metadata": {},
   "outputs": [
    {
     "name": "stdout",
     "output_type": "stream",
     "text": [
      "WARNING:tensorflow:From C:\\Users\\CHERPENS\\Anaconda3\\lib\\site-packages\\tensorflow\\python\\framework\\op_def_library.py:263: colocate_with (from tensorflow.python.framework.ops) is deprecated and will be removed in a future version.\n",
      "Instructions for updating:\n",
      "Colocations handled automatically by placer.\n"
     ]
    }
   ],
   "source": [
    "#Adding 50 Hidden and 10 output layers to the model\n",
    "NN_Model_IMLR.add(Dense(100, input_dim = 256, bias_constraint = unit_norm(axis = 0),\n",
    "                   activation = 'sigmoid'))\n",
    "NN_Model_IMLR.add(Dense(10, bias_constraint = unit_norm(axis = 0), activation = 'sigmoid'))"
   ]
  },
  {
   "cell_type": "code",
   "execution_count": 15,
   "metadata": {},
   "outputs": [],
   "source": [
    "BPSGD_opt = SGD(lr = 1) #Set the learning rate to 0.1"
   ]
  },
  {
   "cell_type": "markdown",
   "metadata": {},
   "source": [
    "**Model Compilation**"
   ]
  },
  {
   "cell_type": "code",
   "execution_count": 16,
   "metadata": {},
   "outputs": [],
   "source": [
    "NN_Model_IMLR.compile(optimizer = BPSGD_opt, loss = 'categorical_crossentropy', metrics = ['accuracy'])"
   ]
  },
  {
   "cell_type": "code",
   "execution_count": 17,
   "metadata": {},
   "outputs": [
    {
     "name": "stdout",
     "output_type": "stream",
     "text": [
      "_________________________________________________________________\n",
      "Layer (type)                 Output Shape              Param #   \n",
      "=================================================================\n",
      "dense_1 (Dense)              (None, 100)               25700     \n",
      "_________________________________________________________________\n",
      "dense_2 (Dense)              (None, 10)                1010      \n",
      "=================================================================\n",
      "Total params: 26,710\n",
      "Trainable params: 26,710\n",
      "Non-trainable params: 0\n",
      "_________________________________________________________________\n"
     ]
    }
   ],
   "source": [
    "NN_Model_IMLR.summary()"
   ]
  },
  {
   "cell_type": "code",
   "execution_count": 18,
   "metadata": {},
   "outputs": [],
   "source": [
    "from keras.callbacks import EarlyStopping\n",
    "#def my_learning_rate(epoch, lrate):\n",
    "    #return lrate\n",
    " \n",
    "#lrs = LearningRateScheduler(my_learning_rate)\n",
    "ES = EarlyStopping(monitor='val_loss', patience = 10)"
   ]
  },
  {
   "cell_type": "markdown",
   "metadata": {},
   "source": [
    "**Fitting the NN Model**"
   ]
  },
  {
   "cell_type": "code",
   "execution_count": 19,
   "metadata": {},
   "outputs": [
    {
     "name": "stdout",
     "output_type": "stream",
     "text": [
      "WARNING:tensorflow:From C:\\Users\\CHERPENS\\Anaconda3\\lib\\site-packages\\tensorflow\\python\\ops\\math_ops.py:3066: to_int32 (from tensorflow.python.ops.math_ops) is deprecated and will be removed in a future version.\n",
      "Instructions for updating:\n",
      "Use tf.cast instead.\n",
      "Train on 1114 samples, validate on 478 samples\n",
      "Epoch 1/60\n",
      "1114/1114 [==============================] - 0s 351us/step - loss: 1.2995 - acc: 0.5691 - val_loss: 0.5915 - val_acc: 0.8096\n",
      "Epoch 2/60\n",
      "1114/1114 [==============================] - 0s 70us/step - loss: 0.3326 - acc: 0.9013 - val_loss: 0.3183 - val_acc: 0.9059\n",
      "Epoch 3/60\n",
      "1114/1114 [==============================] - 0s 64us/step - loss: 0.1438 - acc: 0.9704 - val_loss: 0.2943 - val_acc: 0.9163\n",
      "Epoch 4/60\n",
      "1114/1114 [==============================] - 0s 61us/step - loss: 0.0873 - acc: 0.9883 - val_loss: 0.2630 - val_acc: 0.9226\n",
      "Epoch 5/60\n",
      "1114/1114 [==============================] - 0s 70us/step - loss: 0.0530 - acc: 0.9946 - val_loss: 0.2595 - val_acc: 0.9247\n",
      "Epoch 6/60\n",
      "1114/1114 [==============================] - 0s 65us/step - loss: 0.0368 - acc: 0.9973 - val_loss: 0.2516 - val_acc: 0.9268\n",
      "Epoch 7/60\n",
      "1114/1114 [==============================] - 0s 64us/step - loss: 0.0270 - acc: 0.9991 - val_loss: 0.2467 - val_acc: 0.9289\n",
      "Epoch 8/60\n",
      "1114/1114 [==============================] - 0s 73us/step - loss: 0.0215 - acc: 1.0000 - val_loss: 0.2505 - val_acc: 0.9226\n",
      "Epoch 9/60\n",
      "1114/1114 [==============================] - 0s 73us/step - loss: 0.0180 - acc: 1.0000 - val_loss: 0.2485 - val_acc: 0.9226\n",
      "Epoch 10/60\n",
      "1114/1114 [==============================] - 0s 71us/step - loss: 0.0152 - acc: 1.0000 - val_loss: 0.2476 - val_acc: 0.9184\n",
      "Epoch 11/60\n",
      "1114/1114 [==============================] - 0s 68us/step - loss: 0.0134 - acc: 1.0000 - val_loss: 0.2480 - val_acc: 0.9226\n",
      "Epoch 12/60\n",
      "1114/1114 [==============================] - 0s 81us/step - loss: 0.0119 - acc: 1.0000 - val_loss: 0.2512 - val_acc: 0.9205\n",
      "Epoch 13/60\n",
      "1114/1114 [==============================] - 0s 108us/step - loss: 0.0107 - acc: 1.0000 - val_loss: 0.2507 - val_acc: 0.9226\n",
      "Epoch 14/60\n",
      "1114/1114 [==============================] - 0s 92us/step - loss: 0.0097 - acc: 1.0000 - val_loss: 0.2487 - val_acc: 0.9226\n",
      "Epoch 15/60\n",
      "1114/1114 [==============================] - 0s 97us/step - loss: 0.0088 - acc: 1.0000 - val_loss: 0.2514 - val_acc: 0.9205\n",
      "Epoch 16/60\n",
      "1114/1114 [==============================] - 0s 131us/step - loss: 0.0082 - acc: 1.0000 - val_loss: 0.2527 - val_acc: 0.9184\n",
      "Epoch 17/60\n",
      "1114/1114 [==============================] - 0s 103us/step - loss: 0.0075 - acc: 1.0000 - val_loss: 0.2514 - val_acc: 0.9205\n"
     ]
    }
   ],
   "source": [
    "NN_Model_Capture = NN_Model_IMLR.fit(Indep_train, Dep_train, epochs = 60, \n",
    "                                validation_data = (Indep_test, Dep_test),\n",
    "                                    callbacks = [ES])"
   ]
  },
  {
   "cell_type": "markdown",
   "metadata": {},
   "source": [
    "#### Accuracy on Training AND Test Set"
   ]
  },
  {
   "cell_type": "code",
   "execution_count": 20,
   "metadata": {},
   "outputs": [
    {
     "name": "stdout",
     "output_type": "stream",
     "text": [
      "Accuracy for Training Set: 1.0000\n",
      "'Loss for Training Set: 0.0069\n"
     ]
    }
   ],
   "source": [
    "loss, accuracy = NN_Model_IMLR.evaluate(Indep_train, Dep_train, verbose=0)\n",
    "print(\"Accuracy for Training Set: \"+\"{:.4f}\".format(accuracy))\n",
    "print(\"'Loss for Training Set: \"+\"{:.4f}\".format(loss))"
   ]
  },
  {
   "cell_type": "code",
   "execution_count": 21,
   "metadata": {},
   "outputs": [
    {
     "name": "stdout",
     "output_type": "stream",
     "text": [
      "Accuracy for Test Set: 0.9205\n",
      "Loss for Test Set: 0.2514\n"
     ]
    }
   ],
   "source": [
    "loss, accuracy = NN_Model_IMLR.evaluate(Indep_test, Dep_test, verbose=0)\n",
    "print(\"Accuracy for Test Set: \"+\"{:.4f}\".format(accuracy))\n",
    "print(\"Loss for Test Set: \"+\"{:.4f}\".format(loss))"
   ]
  },
  {
   "cell_type": "markdown",
   "metadata": {},
   "source": [
    "**Even though just by  Standardizing the dataset a model with the same parameters accuracies improved from;  0.9928 to 1 and losses regressed from 0.0973 to 0.0370 for the training set and the test set from 0.9121/ 0.2830 to 0.9310/0.2467 for accuracies and losses respectively. I decided to see if by experimenting with some features and hyperparameters if the gap between training and test could be smaller than what I got with my initial proved model but it was a fruitless exercise but loss for training set regressed to 0.0062, the only positive.  Examples of some of the hyperparameters there were introduced were left as comments in the code.**"
   ]
  }
 ],
 "metadata": {
  "kernelspec": {
   "display_name": "Python 3",
   "language": "python",
   "name": "python3"
  },
  "language_info": {
   "codemirror_mode": {
    "name": "ipython",
    "version": 3
   },
   "file_extension": ".py",
   "mimetype": "text/x-python",
   "name": "python",
   "nbconvert_exporter": "python",
   "pygments_lexer": "ipython3",
   "version": "3.6.8"
  }
 },
 "nbformat": 4,
 "nbformat_minor": 2
}
